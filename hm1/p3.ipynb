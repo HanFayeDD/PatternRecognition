{
 "cells": [
  {
   "cell_type": "code",
   "execution_count": 69,
   "metadata": {},
   "outputs": [],
   "source": [
    "import matplotlib.pyplot as plt\n",
    "import numpy as np\n",
    "import random"
   ]
  },
  {
   "cell_type": "code",
   "execution_count": 70,
   "metadata": {},
   "outputs": [
    {
     "name": "stdout",
     "output_type": "stream",
     "text": [
      "[(5, 2), (1, 2), (2, 1), (6, 2), (1, 1), (3, 1), (7, -1), (5, -1)]\n"
     ]
    }
   ],
   "source": [
    "dots = [(5,2), (1,2), (2,1), (6,2),\n",
    "        (1,1), (3,1), (7,-1), (5,-1)]\n",
    "print(dots)"
   ]
  },
  {
   "cell_type": "code",
   "execution_count": 71,
   "metadata": {},
   "outputs": [],
   "source": [
    "K = 2"
   ]
  },
  {
   "cell_type": "code",
   "execution_count": 72,
   "metadata": {},
   "outputs": [],
   "source": [
    "def calDunn(d:dict):\n",
    "    ## 分子\n",
    "    mindis = float('inf')\n",
    "    for k1, v1 in d.items():\n",
    "        for k2, v2 in d.items():\n",
    "            if k1 < k2:\n",
    "                for i in v1:\n",
    "                    for j in v2:\n",
    "                        dis = np.sqrt((i[0]-j[0])**2 + (i[1]-j[1])**2)\n",
    "                        if dis < mindis:\n",
    "                            mindis = dis\n",
    "    ## 分母\n",
    "    maxdis = 0\n",
    "    for k, v in d.items():\n",
    "        for i in v:\n",
    "            for j in v:\n",
    "                dis = np.sqrt((i[0]-j[0])**2 + (i[1]-j[1])**2)\n",
    "                if dis > maxdis:\n",
    "                    maxdis = dis\n",
    "    return mindis/maxdis"
   ]
  },
  {
   "cell_type": "code",
   "execution_count": 73,
   "metadata": {},
   "outputs": [],
   "source": [
    "def calDB(d:dict):\n",
    "    keys = list(d.keys())\n",
    "    classnum = len(keys)\n",
    "    sum = 0\n",
    "    for k1, _ in d.items():\n",
    "        temp = 0\n",
    "        for k2, _ in d.items():\n",
    "            if k1 != k2:\n",
    "                temp = max(temp, calRij(d, k1, k2))\n",
    "        sum += temp\n",
    "    return sum/classnum\n",
    "            \n",
    "def calRij(d:dict, i, j):\n",
    "    m1 = (np.mean([x for x, _ in d[i]]), np.mean([y for _, y in d[i]]))\n",
    "    m2 = (np.mean([x for x, _ in d[j]]), np.mean([y for _, y in d[j]]))\n",
    "    dij = np.sqrt((m1[0]-m2[0])**2 + (m1[1]-m2[1])**2)\n",
    "    si = np.sqrt(\n",
    "        sum([(x-m1[0])**2 + (y-m1[1])**2 for x, y in d[i]])\n",
    "        /len(d[i])\n",
    "        )\n",
    "    sj = np.sqrt(\n",
    "        sum([(x-m2[0])**2 + (y-m2[1])**2 for x, y in d[j]])\n",
    "        /len(d[j])\n",
    "        )\n",
    "    return (si+sj)/dij"
   ]
  },
  {
   "cell_type": "markdown",
   "metadata": {},
   "source": [
    "### 距离的度量\n",
    "- 一个样本A与一个类C的距离：用样本A与类C的样本均值之间的距离来标识\n",
    "- 类C1与类C2的距离：用类C1的样本均值与类C2的样本均值的距离来标识"
   ]
  },
  {
   "cell_type": "markdown",
   "metadata": {},
   "source": [
    "### 顺序聚类"
   ]
  },
  {
   "cell_type": "code",
   "execution_count": 74,
   "metadata": {},
   "outputs": [
    {
     "name": "stdout",
     "output_type": "stream",
     "text": [
      "******输入的点: (5, 2) ******\n",
      "初始化中心点: {0: (5, 2)}\n",
      "******输入的点: (1, 2) ******\n",
      "初始化中心点: {0: (5, 2), 1: (1, 2)}\n",
      "******输入的点: (2, 1) ******\n",
      "到类别0中心点的距离为3.1622776601683795\n",
      "到类别1中心点的距离为1.4142135623730951\n",
      "聚类结果 {0: [(5, 2)], 1: [(1, 2), (2, 1)]}\n",
      "更新中心点 {0: (5.0, 2.0), 1: (1.5, 1.5)}\n",
      "******输入的点: (6, 2) ******\n",
      "到类别0中心点的距离为1.0\n",
      "到类别1中心点的距离为4.527692569068709\n",
      "聚类结果 {0: [(5, 2), (6, 2)], 1: [(1, 2), (2, 1)]}\n",
      "更新中心点 {0: (5.5, 2.0), 1: (1.5, 1.5)}\n",
      "******输入的点: (1, 1) ******\n",
      "到类别0中心点的距离为4.6097722286464435\n",
      "到类别1中心点的距离为0.7071067811865476\n",
      "聚类结果 {0: [(5, 2), (6, 2)], 1: [(1, 2), (2, 1), (1, 1)]}\n",
      "更新中心点 {0: (5.5, 2.0), 1: (1.3333333333333333, 1.3333333333333333)}\n",
      "******输入的点: (3, 1) ******\n",
      "到类别0中心点的距离为2.692582403567252\n",
      "到类别1中心点的距离为1.699673171197595\n",
      "聚类结果 {0: [(5, 2), (6, 2)], 1: [(1, 2), (2, 1), (1, 1), (3, 1)]}\n",
      "更新中心点 {0: (5.5, 2.0), 1: (1.75, 1.25)}\n",
      "******输入的点: (7, -1) ******\n",
      "到类别0中心点的距离为3.3541019662496847\n",
      "到类别1中心点的距离为5.7118298293979315\n",
      "聚类结果 {0: [(5, 2), (6, 2), (7, -1)], 1: [(1, 2), (2, 1), (1, 1), (3, 1)]}\n",
      "更新中心点 {0: (6.0, 1.0), 1: (1.75, 1.25)}\n",
      "******输入的点: (5, -1) ******\n",
      "到类别0中心点的距离为2.23606797749979\n",
      "到类别1中心点的距离为3.952847075210474\n",
      "聚类结果 {0: [(5, 2), (6, 2), (7, -1), (5, -1)], 1: [(1, 2), (2, 1), (1, 1), (3, 1)]}\n",
      "更新中心点 {0: (5.75, 0.5), 1: (1.75, 1.25)}\n",
      "聚类结果: {0: [(5, 2), (6, 2), (7, -1), (5, -1)], 1: [(1, 2), (2, 1), (1, 1), (3, 1)]}\n",
      "Dunn指数: 0.6201736729460423\n",
      "Davies-Bouldin指数: 0.6509877005287489\n"
     ]
    }
   ],
   "source": [
    "class SequenticalCluster():\n",
    "    def __init__(self, dots, K):\n",
    "        self.dots = dots\n",
    "        self.K = K\n",
    "        self.centers = dict()\n",
    "        self.cnt = 0\n",
    "        self.result = dict()\n",
    "        for i in range(K):\n",
    "            self.result[i] = []\n",
    "    \n",
    "    def fit(self):\n",
    "        for dot in self.dots:\n",
    "            print(\"******输入的点:\", dot, '******')\n",
    "            if self.cnt < K:\n",
    "                self.centers[self.cnt] = dot\n",
    "                self.result[self.cnt].append(dot)\n",
    "                self.cnt += 1\n",
    "                print(\"初始化中心点:\", self.centers)\n",
    "                continue\n",
    "            index = self.__findnearest(dot)\n",
    "            self.result[index].append(dot)\n",
    "            print(\"聚类结果\",self.result)\n",
    "            self.__updatecenter()\n",
    "        return self.result\n",
    "    \n",
    "    def __findnearest(self, dot):\n",
    "        min_dis = float('inf')\n",
    "        min_index = -1\n",
    "        for i in range(K):\n",
    "            dis = np.sqrt((self.centers[i][0]-dot[0])**2 + (self.centers[i][1]-dot[1])**2)\n",
    "            print(f\"到类别{i}中心点的距离为{dis}\")\n",
    "            if dis < min_dis:\n",
    "                min_dis = dis\n",
    "                min_index = i\n",
    "        return min_index\n",
    "    \n",
    "    def __updatecenter(self):\n",
    "        for i in range(K):\n",
    "            sumx = [x for x, _ in self.result[i]]\n",
    "            sumy = [y for _, y in self.result[i]]\n",
    "            self.centers[i] = (sum(sumx)/len(sumx), sum(sumy)/len(sumy))\n",
    "        print('更新中心点', self.centers)\n",
    "            \n",
    "\n",
    "sc = SequenticalCluster(dots, K)\n",
    "res = sc.fit()\n",
    "print(\"聚类结果:\", res)\n",
    "print(\"Dunn指数:\", calDunn(res))\n",
    "print(\"Davies-Bouldin指数:\", calDB(res))"
   ]
  },
  {
   "cell_type": "markdown",
   "metadata": {},
   "source": [
    "### 谱系聚类"
   ]
  },
  {
   "cell_type": "code",
   "execution_count": 75,
   "metadata": {},
   "outputs": [
    {
     "name": "stdout",
     "output_type": "stream",
     "text": [
      "初始化\n",
      "{0: [(5, 2)], 1: [(1, 2)], 2: [(2, 1)], 3: [(6, 2)], 4: [(1, 1)], 5: [(3, 1)], 6: [(7, -1)], 7: [(5, -1)]}\n",
      "合并类0和类3为类0\n",
      "{0: [(5, 2), (6, 2)], 1: [(1, 2)], 2: [(2, 1)], 4: [(1, 1)], 5: [(3, 1)], 6: [(7, -1)], 7: [(5, -1)]}\n",
      "合并类1和类4为类1\n",
      "{0: [(5, 2), (6, 2)], 1: [(1, 2), (1, 1)], 2: [(2, 1)], 5: [(3, 1)], 6: [(7, -1)], 7: [(5, -1)]}\n",
      "合并类2和类5为类2\n",
      "{0: [(5, 2), (6, 2)], 1: [(1, 2), (1, 1)], 2: [(2, 1), (3, 1)], 6: [(7, -1)], 7: [(5, -1)]}\n",
      "合并类1和类2为类1\n",
      "{0: [(5, 2), (6, 2)], 1: [(1, 2), (1, 1), (2, 1), (3, 1)], 6: [(7, -1)], 7: [(5, -1)]}\n",
      "合并类6和类7为类6\n",
      "{0: [(5, 2), (6, 2)], 1: [(1, 2), (1, 1), (2, 1), (3, 1)], 6: [(7, -1), (5, -1)]}\n",
      "合并类0和类6为类0\n",
      "{0: [(5, 2), (6, 2), (7, -1), (5, -1)], 1: [(1, 2), (1, 1), (2, 1), (3, 1)]}\n",
      "聚类结果: {0: [(5, 2), (6, 2), (7, -1), (5, -1)], 1: [(1, 2), (1, 1), (2, 1), (3, 1)]}\n",
      "Dunn指数: 0.6201736729460423\n",
      "Davies-Bouldin指数: 0.6509877005287489\n"
     ]
    }
   ],
   "source": [
    "class HierarchicalCluster():\n",
    "    def __init__(self, dots, K):\n",
    "        self.dots = dots\n",
    "        self.K = K\n",
    "        self.nowclassnum = len(dots)\n",
    "        self.dictls:dict[list] = dict()\n",
    "        for i in range(0, self.nowclassnum):\n",
    "            self.dictls[i] = [dots[i]]\n",
    "        print(\"初始化\")\n",
    "        print(self.dictls)\n",
    "    \n",
    "    def fit(self):\n",
    "        while self.nowclassnum > self.K:\n",
    "            self.__merge()\n",
    "            self.nowclassnum -= 1\n",
    "        return self.dictls\n",
    "    \n",
    "    def __merge(self):\n",
    "        min_dis = float('inf')\n",
    "        midnex0 = -1\n",
    "        midnex1 = -1\n",
    "        for k1, v1 in self.dictls.items():\n",
    "            for k2, v2 in self.dictls.items():\n",
    "                if k1 < k2:\n",
    "                    dis = self.__getdis(v1, v2)\n",
    "                    if dis < min_dis:\n",
    "                        min_dis = dis\n",
    "                        midnex0 = k1\n",
    "                        midnex1 = k2\n",
    "        if midnex0 == -1 or midnex1 == -1:\n",
    "            raise ValueError(\"合并失败\")\n",
    "        print(f\"合并类{midnex0}和类{midnex1}为类{midnex0}\")\n",
    "        self.dictls[midnex0] = self.dictls[midnex0] + self.dictls[midnex1]\n",
    "        del self.dictls[midnex1]\n",
    "        print(self.dictls)\n",
    "    \n",
    "    def __getdis(self, v1, v2):\n",
    "        sum = 0\n",
    "        v1center = (np.mean([x for x, _ in v1]), np.mean([y for _, y in v1]))\n",
    "        v2center = (np.mean([x for x, _ in v2]), np.mean([y for _, y in v2]))\n",
    "        return ((v1center[0]-v2center[0])**2 + (v1center[1]-v2center[1])**2)**0.5\n",
    "\n",
    "hc = HierarchicalCluster(dots, K)\n",
    "res = hc.fit()\n",
    "print(\"聚类结果:\", res)\n",
    "print(\"Dunn指数:\", calDunn(res))\n",
    "print(\"Davies-Bouldin指数:\", calDB(res))"
   ]
  },
  {
   "cell_type": "markdown",
   "metadata": {},
   "source": [
    "### K均值聚类\n"
   ]
  },
  {
   "cell_type": "code",
   "execution_count": 76,
   "metadata": {},
   "outputs": [
    {
     "name": "stdout",
     "output_type": "stream",
     "text": [
      "初始随机中心点\n",
      " {0: (7, -1), 1: (5, -1)}\n",
      "迭代次数 0\n",
      "类中心点 {0: (7, -1), 1: (5, -1)}\n",
      "迭代次数 1\n",
      "类中心点 {0: (6.5, 0.5), 1: (2.8333333333333335, 1.0)}\n",
      "迭代次数 2\n",
      "类中心点 {0: (5.75, 0.5), 1: (1.75, 1.25)}\n",
      "聚类结果 {0: [(5, 2), (6, 2), (7, -1), (5, -1)], 1: [(1, 2), (2, 1), (1, 1), (3, 1)]}\n",
      "聚类中心点 {0: (5.75, 0.5), 1: (1.75, 1.25)}\n",
      "Dunn指数: 0.6201736729460423\n",
      "Davies-Bouldin指数: 0.6509877005287489\n"
     ]
    }
   ],
   "source": [
    "class KMeans():\n",
    "    eps = 1e-6\n",
    "    def __init__(self, k, dots):\n",
    "        self.k = k\n",
    "        self.dots = dots\n",
    "        self.kcenterdict = dict()\n",
    "        self.kdots = dict()\n",
    "        self.state = random.getstate()\n",
    "        self.__initrandomcenter()\n",
    "        self.__initkdots()\n",
    "        self.changed = True\n",
    "        self.internum = 0\n",
    "        \n",
    "    \n",
    "    def __initrandomcenter(self):\n",
    "        random.setstate(self.state)\n",
    "        temp = random.sample(range(0, len(self.dots)), self.k)\n",
    "        for i in range(self.k):\n",
    "            self.kcenterdict[i] = self.dots[temp[i]]\n",
    "        print(\"初始随机中心点\\n\", self.kcenterdict)\n",
    "        \n",
    "    def __initkdots(self):\n",
    "        for i in range(self.k):\n",
    "            self.kdots[i] = []\n",
    "            \n",
    "    def fit(self):\n",
    "        while self.changed:\n",
    "            print(\"迭代次数\", self.internum)\n",
    "            print(\"类中心点\", self.kcenterdict)\n",
    "            self.__initkdots()\n",
    "            for dot in self.dots:\n",
    "                nearest = self.__getnearest(dot)\n",
    "                self.kdots[nearest].append(dot)\n",
    "            self.__updatecenter()\n",
    "            self.internum += 1\n",
    "        return self.kdots, self.kcenterdict\n",
    "    \n",
    "    def __updatecenter(self):\n",
    "        for i in range(self.k):\n",
    "            newx = sum([x for x, _ in self.kdots[i]]) / len(self.kdots[i])\n",
    "            newy = sum([y for _, y in self.kdots[i]]) / len(self.kdots[i])\n",
    "            if(abs(newx - self.kcenterdict[i][0]) < self.eps and abs(newy - self.kcenterdict[i][1]) < self.eps):\n",
    "                self.changed = False\n",
    "            else:\n",
    "                # self.changed = True\n",
    "                self.kcenterdict[i] = (newx, newy)\n",
    "\n",
    "    def __getnearest(self, dot):\n",
    "        mindis = float('inf') \n",
    "        index = None\n",
    "        for i in range(self.k):\n",
    "            x1, y1 = dot\n",
    "            x2, y2 = self.kcenterdict[i]\n",
    "            dis = ((x1 - x2) ** 2 + (y1 - y2) ** 2)**0.5\n",
    "            if dis < mindis:\n",
    "                mindis = dis\n",
    "                index = i\n",
    "        if index is None:\n",
    "            raise ValueError(\"index is None\")\n",
    "        return index\n",
    "\n",
    "km = KMeans(K, dots)\n",
    "res, kcenter = km.fit()\n",
    "print(\"聚类结果\", res)\n",
    "print(\"聚类中心点\", kcenter)\n",
    "print(\"Dunn指数:\", calDunn(res))\n",
    "print(\"Davies-Bouldin指数:\", calDB(res))"
   ]
  }
 ],
 "metadata": {
  "kernelspec": {
   "display_name": "Python 3",
   "language": "python",
   "name": "python3"
  },
  "language_info": {
   "codemirror_mode": {
    "name": "ipython",
    "version": 3
   },
   "file_extension": ".py",
   "mimetype": "text/x-python",
   "name": "python",
   "nbconvert_exporter": "python",
   "pygments_lexer": "ipython3",
   "version": "3.11.9"
  }
 },
 "nbformat": 4,
 "nbformat_minor": 2
}
